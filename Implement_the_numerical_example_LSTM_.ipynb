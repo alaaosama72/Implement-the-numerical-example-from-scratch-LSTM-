{
  "cells": [
    {
      "cell_type": "markdown",
      "metadata": {
        "id": "view-in-github",
        "colab_type": "text"
      },
      "source": [
        "<a href=\"https://colab.research.google.com/github/alaaosama72/Implement-the-numerical-example-from-scratch-LSTM-/blob/main/Implement_the_numerical_example_LSTM_.ipynb\" target=\"_parent\"><img src=\"https://colab.research.google.com/assets/colab-badge.svg\" alt=\"Open In Colab\"/></a>"
      ]
    },
    {
      "cell_type": "code",
      "execution_count": 1,
      "id": "53ee336a",
      "metadata": {
        "execution": {
          "iopub.execute_input": "2025-02-28T20:46:33.122533Z",
          "iopub.status.busy": "2025-02-28T20:46:33.122112Z",
          "iopub.status.idle": "2025-02-28T20:46:33.127304Z",
          "shell.execute_reply": "2025-02-28T20:46:33.126455Z"
        },
        "papermill": {
          "duration": 0.016125,
          "end_time": "2025-02-28T20:46:33.128583",
          "exception": false,
          "start_time": "2025-02-28T20:46:33.112458",
          "status": "completed"
        },
        "tags": [],
        "id": "53ee336a"
      },
      "outputs": [],
      "source": [
        "import numpy as np"
      ]
    },
    {
      "cell_type": "code",
      "execution_count": 2,
      "id": "77f32c0a",
      "metadata": {
        "execution": {
          "iopub.execute_input": "2025-02-28T20:46:33.146417Z",
          "iopub.status.busy": "2025-02-28T20:46:33.146114Z",
          "iopub.status.idle": "2025-02-28T20:46:33.149976Z",
          "shell.execute_reply": "2025-02-28T20:46:33.149171Z"
        },
        "papermill": {
          "duration": 0.014208,
          "end_time": "2025-02-28T20:46:33.151418",
          "exception": false,
          "start_time": "2025-02-28T20:46:33.13721",
          "status": "completed"
        },
        "tags": [],
        "id": "77f32c0a"
      },
      "outputs": [],
      "source": [
        "def sigmoid(x):\n",
        "    return 1 / (1 + np.exp(-x))\n",
        "\n",
        "def tanh(x):\n",
        "    return np.tanh(x)"
      ]
    },
    {
      "cell_type": "code",
      "execution_count": 3,
      "id": "3ca904e8",
      "metadata": {
        "execution": {
          "iopub.execute_input": "2025-02-28T20:46:33.168916Z",
          "iopub.status.busy": "2025-02-28T20:46:33.168548Z",
          "iopub.status.idle": "2025-02-28T20:46:33.173264Z",
          "shell.execute_reply": "2025-02-28T20:46:33.172457Z"
        },
        "papermill": {
          "duration": 0.014949,
          "end_time": "2025-02-28T20:46:33.174645",
          "exception": false,
          "start_time": "2025-02-28T20:46:33.159696",
          "status": "completed"
        },
        "tags": [],
        "id": "3ca904e8"
      },
      "outputs": [],
      "source": [
        "\n",
        "W_f, U_f, b_f = 0.5, 0.1, 0\n",
        "W_i, U_i, b_i = 0.6, 0.2, 0\n",
        "W_c, U_c, b_c = 0.7, 0.3, 0\n",
        "W_o, U_o, b_o = 0.8, 0.4, 0"
      ]
    },
    {
      "cell_type": "code",
      "execution_count": 4,
      "id": "b11afa55",
      "metadata": {
        "execution": {
          "iopub.execute_input": "2025-02-28T20:46:33.192412Z",
          "iopub.status.busy": "2025-02-28T20:46:33.192024Z",
          "iopub.status.idle": "2025-02-28T20:46:33.195835Z",
          "shell.execute_reply": "2025-02-28T20:46:33.195056Z"
        },
        "papermill": {
          "duration": 0.014061,
          "end_time": "2025-02-28T20:46:33.19724",
          "exception": false,
          "start_time": "2025-02-28T20:46:33.183179",
          "status": "completed"
        },
        "tags": [],
        "id": "b11afa55"
      },
      "outputs": [],
      "source": [
        "# Initial hidden state and cell state\n",
        "h_prev = 0.0\n",
        "C_prev = 0.0"
      ]
    },
    {
      "cell_type": "code",
      "execution_count": 5,
      "id": "2304731d",
      "metadata": {
        "execution": {
          "iopub.execute_input": "2025-02-28T20:46:33.215243Z",
          "iopub.status.busy": "2025-02-28T20:46:33.214837Z",
          "iopub.status.idle": "2025-02-28T20:46:33.218692Z",
          "shell.execute_reply": "2025-02-28T20:46:33.217883Z"
        },
        "papermill": {
          "duration": 0.014317,
          "end_time": "2025-02-28T20:46:33.219924",
          "exception": false,
          "start_time": "2025-02-28T20:46:33.205607",
          "status": "completed"
        },
        "tags": [],
        "id": "2304731d"
      },
      "outputs": [],
      "source": [
        "X = [1, 2, 3]"
      ]
    },
    {
      "cell_type": "code",
      "execution_count": 6,
      "id": "33109510",
      "metadata": {
        "execution": {
          "iopub.execute_input": "2025-02-28T20:46:33.23772Z",
          "iopub.status.busy": "2025-02-28T20:46:33.237336Z",
          "iopub.status.idle": "2025-02-28T20:46:33.241063Z",
          "shell.execute_reply": "2025-02-28T20:46:33.240302Z"
        },
        "papermill": {
          "duration": 0.01418,
          "end_time": "2025-02-28T20:46:33.242439",
          "exception": false,
          "start_time": "2025-02-28T20:46:33.228259",
          "status": "completed"
        },
        "tags": [],
        "id": "33109510"
      },
      "outputs": [],
      "source": [
        "# Parameters for the final output prediction\n",
        "W_y, b_y = 3, 0"
      ]
    },
    {
      "cell_type": "code",
      "execution_count": 7,
      "id": "dac49b5d",
      "metadata": {
        "execution": {
          "iopub.execute_input": "2025-02-28T20:46:33.261657Z",
          "iopub.status.busy": "2025-02-28T20:46:33.261371Z",
          "iopub.status.idle": "2025-02-28T20:46:33.264494Z",
          "shell.execute_reply": "2025-02-28T20:46:33.263864Z"
        },
        "papermill": {
          "duration": 0.015071,
          "end_time": "2025-02-28T20:46:33.265746",
          "exception": false,
          "start_time": "2025-02-28T20:46:33.250675",
          "status": "completed"
        },
        "tags": [],
        "id": "dac49b5d"
      },
      "outputs": [],
      "source": [
        "# Lists to store hidden states and cell states for each time step\n",
        "hs = []\n",
        "Cs = []"
      ]
    },
    {
      "cell_type": "code",
      "execution_count": 8,
      "id": "2ee288b9",
      "metadata": {
        "execution": {
          "iopub.execute_input": "2025-02-28T20:46:33.282541Z",
          "iopub.status.busy": "2025-02-28T20:46:33.282273Z",
          "iopub.status.idle": "2025-02-28T20:46:33.285362Z",
          "shell.execute_reply": "2025-02-28T20:46:33.284766Z"
        },
        "papermill": {
          "duration": 0.012839,
          "end_time": "2025-02-28T20:46:33.286626",
          "exception": false,
          "start_time": "2025-02-28T20:46:33.273787",
          "status": "completed"
        },
        "tags": [],
        "id": "2ee288b9"
      },
      "outputs": [],
      "source": [
        "# Lists to store gate values for visualization\n",
        "forget_gate_values = []\n",
        "input_gate_values = []\n",
        "candidate_values = []\n",
        "output_gate_values = []"
      ]
    },
    {
      "cell_type": "code",
      "execution_count": 9,
      "id": "e1974c1d",
      "metadata": {
        "execution": {
          "iopub.execute_input": "2025-02-28T20:46:33.30344Z",
          "iopub.status.busy": "2025-02-28T20:46:33.30317Z",
          "iopub.status.idle": "2025-02-28T20:46:33.31003Z",
          "shell.execute_reply": "2025-02-28T20:46:33.309194Z"
        },
        "papermill": {
          "duration": 0.016506,
          "end_time": "2025-02-28T20:46:33.311246",
          "exception": false,
          "start_time": "2025-02-28T20:46:33.29474",
          "status": "completed"
        },
        "tags": [],
        "colab": {
          "base_uri": "https://localhost:8080/"
        },
        "id": "e1974c1d",
        "outputId": "b8daefb5-d853-4ada-e7b0-11870d67875f"
      },
      "outputs": [
        {
          "output_type": "stream",
          "name": "stdout",
          "text": [
            "Time Step 1, Input = 1\n",
            "  f_t = 0.622, i_t = 0.646, C_t_candidate = 0.604\n",
            "  C_t = 0.390, o_t = 0.690, h_t = 0.256\n",
            "\n",
            "Time Step 2, Input = 2\n",
            "  f_t = 0.736, i_t = 0.778, C_t_candidate = 0.901\n",
            "  C_t = 0.988, o_t = 0.846, h_t = 0.640\n",
            "\n",
            "Time Step 3, Input = 3\n",
            "  f_t = 0.827, i_t = 0.873, C_t_candidate = 0.980\n",
            "  C_t = 1.672, o_t = 0.934, h_t = 0.871\n",
            "\n"
          ]
        }
      ],
      "source": [
        "for t, x in enumerate(X, start=1):\n",
        "    # Calculate (forget gate)\n",
        "    f_t = sigmoid(W_f * x + U_f * h_prev + b_f)\n",
        "\n",
        "    # Calculate (input gate)\n",
        "    i_t = sigmoid(W_i * x + U_i * h_prev + b_i)\n",
        "\n",
        "    # Calculate (candidate cell state)\n",
        "    C_t_candidate = tanh(W_c * x + U_c * h_prev + b_c)\n",
        "\n",
        "    # (Update cell state)\n",
        "    C_t = f_t * C_prev + i_t * C_t_candidate\n",
        "\n",
        "    # (Calculate output gate)\n",
        "    o_t = sigmoid(W_o * x + U_o * h_prev + b_o)\n",
        "\n",
        "    # Store gate values\n",
        "    forget_gate_values.append(f_t)\n",
        "    input_gate_values.append(i_t)\n",
        "    candidate_values.append(C_t_candidate)\n",
        "    output_gate_values.append(o_t)\n",
        "\n",
        "    # (Update hidden state)\n",
        "    h_t = o_t * tanh(C_t)\n",
        "\n",
        "    # Save the results\n",
        "    hs.append(h_t)\n",
        "    Cs.append(C_t)\n",
        "\n",
        "    # Prepare for next time step\n",
        "    h_prev, C_prev = h_t, C_t\n",
        "\n",
        "    # Print the computations for the --current time step--\n",
        "    print(f\"Time Step {t}, Input = {x}\")\n",
        "    print(f\"  f_t = {f_t:.3f}, i_t = {i_t:.3f}, C_t_candidate = {C_t_candidate:.3f}\")\n",
        "    print(f\"  C_t = {C_t:.3f}, o_t = {o_t:.3f}, h_t = {h_t:.3f}\\n\")\n"
      ]
    },
    {
      "cell_type": "code",
      "execution_count": 10,
      "id": "811d3f81",
      "metadata": {
        "execution": {
          "iopub.execute_input": "2025-02-28T20:46:33.328243Z",
          "iopub.status.busy": "2025-02-28T20:46:33.327993Z",
          "iopub.status.idle": "2025-02-28T20:46:33.605014Z",
          "shell.execute_reply": "2025-02-28T20:46:33.604151Z"
        },
        "papermill": {
          "duration": 0.286813,
          "end_time": "2025-02-28T20:46:33.606311",
          "exception": false,
          "start_time": "2025-02-28T20:46:33.319498",
          "status": "completed"
        },
        "tags": [],
        "colab": {
          "base_uri": "https://localhost:8080/",
          "height": 564
        },
        "id": "811d3f81",
        "outputId": "95ffb7fa-4d1c-4541-8da7-97a92da91744"
      },
      "outputs": [
        {
          "output_type": "display_data",
          "data": {
            "text/plain": [
              "<Figure size 1000x600 with 1 Axes>"
            ],
            "image/png": "[encoded data removed]"
          },
          "metadata": {}
        }
      ],
      "source": [
        "# Bar chart of gate values\n",
        "import matplotlib.pyplot as plt\n",
        "\n",
        "time_steps = range(1, len(X)+1)\n",
        "plt.figure(figsize=(10, 6))\n",
        "width = 0.2\n",
        "\n",
        "plt.bar([p - 1.5*width for p in time_steps], forget_gate_values, width=width, label='Forget Gate')\n",
        "plt.bar([p - 0.5*width for p in time_steps], input_gate_values, width=width, label='Input Gate')\n",
        "plt.bar([p + 0.5*width for p in time_steps], candidate_values, width=width, label='Candidate')\n",
        "plt.bar([p + 1.5*width for p in time_steps], output_gate_values, width=width, label='Output Gate')\n",
        "\n",
        "plt.xlabel(\"Time Step\")\n",
        "plt.ylabel(\"Gate Value\")\n",
        "plt.title(\"Gate Activations Over Time\")\n",
        "plt.xticks(time_steps)\n",
        "\n",
        "plt.legend()\n",
        "plt.show()"
      ]
    },
    {
      "cell_type": "code",
      "execution_count": 11,
      "id": "33cfd1f7",
      "metadata": {
        "execution": {
          "iopub.execute_input": "2025-02-28T20:46:33.624942Z",
          "iopub.status.busy": "2025-02-28T20:46:33.624665Z",
          "iopub.status.idle": "2025-02-28T20:46:33.628804Z",
          "shell.execute_reply": "2025-02-28T20:46:33.627941Z"
        },
        "papermill": {
          "duration": 0.014871,
          "end_time": "2025-02-28T20:46:33.630172",
          "exception": false,
          "start_time": "2025-02-28T20:46:33.615301",
          "status": "completed"
        },
        "tags": [],
        "colab": {
          "base_uri": "https://localhost:8080/"
        },
        "id": "33cfd1f7",
        "outputId": "032bc64f-4ef6-449d-a3ce-8d13a2074eda"
      },
      "outputs": [
        {
          "output_type": "stream",
          "name": "stdout",
          "text": [
            "Predicted next value: 2.612\n"
          ]
        }
      ],
      "source": [
        "# Predict the next value using the last hidden state\n",
        "h_T = hs[-1]\n",
        "y_pred = W_y * h_T + b_y\n",
        "\n",
        "print(f\"Predicted next value: {y_pred:.3f}\")"
      ]
    },
    {
      "cell_type": "markdown",
      "id": "42ca6fa1",
      "metadata": {
        "papermill": {
          "duration": 0.008338,
          "end_time": "2025-02-28T20:46:33.647319",
          "exception": false,
          "start_time": "2025-02-28T20:46:33.638981",
          "status": "completed"
        },
        "tags": [],
        "id": "42ca6fa1"
      },
      "source": [
        "As you can see, the answer is `2.985`, so why doesn't the model produce a prediction of 40 🤔🤔?\n",
        "\n",
        "    Because the weights and values used in the example were chosen randomly for illustration purposes, and there is no learning or training mechanism to adjust them to fit the sequence of [10, 20, 30] to produce 40. Therefore, the calculations are not consistent with the predictions of the real sequence. It is a very simple application to understand the structure of the (LSTM).\n",
        "    \n",
        "    you can complete the codes until you reach a code that adjusts the parameters until it reaches the result."
      ]
    },
    {
      "cell_type": "code",
      "execution_count": 12,
      "id": "553ab115",
      "metadata": {
        "execution": {
          "iopub.execute_input": "2025-02-28T20:46:33.665569Z",
          "iopub.status.busy": "2025-02-28T20:46:33.665246Z",
          "iopub.status.idle": "2025-02-28T20:46:33.902996Z",
          "shell.execute_reply": "2025-02-28T20:46:33.902146Z"
        },
        "papermill": {
          "duration": 0.248398,
          "end_time": "2025-02-28T20:46:33.904305",
          "exception": false,
          "start_time": "2025-02-28T20:46:33.655907",
          "status": "completed"
        },
        "tags": [],
        "colab": {
          "base_uri": "https://localhost:8080/",
          "height": 410
        },
        "id": "553ab115",
        "outputId": "27b96aeb-5f3d-420b-bae4-611beaecf5b3"
      },
      "outputs": [
        {
          "output_type": "display_data",
          "data": {
            "text/plain": [
              "<Figure size 800x400 with 1 Axes>"
            ],
            "image/png": "[encoded data removed]"
          },
          "metadata": {}
        }
      ],
      "source": [
        "import matplotlib.pyplot as plt\n",
        "\n",
        "# Assume hs and Cs store the hidden and cell states for each time step\n",
        "time_steps = range(1, len(hs) + 1)\n",
        "\n",
        "plt.figure(figsize=(8, 4))\n",
        "plt.plot(time_steps, hs, marker='o', label='Hidden State')\n",
        "plt.plot(time_steps, Cs, marker='o', label='Cell State')\n",
        "plt.xlabel('Time Step')\n",
        "plt.ylabel('Value')\n",
        "plt.title('Evolution of Hidden and Cell States')\n",
        "plt.legend()\n",
        "plt.grid(True)\n",
        "plt.show()"
      ]
    },
    {
      "cell_type": "code",
      "execution_count": 13,
      "id": "606fc971",
      "metadata": {
        "execution": {
          "iopub.execute_input": "2025-02-28T20:46:33.97813Z",
          "iopub.status.busy": "2025-02-28T20:46:33.977818Z",
          "iopub.status.idle": "2025-02-28T20:46:34.72451Z",
          "shell.execute_reply": "2025-02-28T20:46:34.723785Z"
        },
        "papermill": {
          "duration": 0.757937,
          "end_time": "2025-02-28T20:46:34.725966",
          "exception": false,
          "start_time": "2025-02-28T20:46:33.968029",
          "status": "completed"
        },
        "tags": [],
        "id": "606fc971"
      },
      "outputs": [],
      "source": [
        "import numpy as np\n",
        "import string\n",
        "import pandas as pd\n",
        "import matplotlib.pyplot as plt\n",
        "%matplotlib inline\n",
        "\n",
        "from wordcloud import WordCloud, STOPWORDS"
      ]
    },
    {
      "cell_type": "code",
      "execution_count": 14,
      "id": "254723f9",
      "metadata": {
        "execution": {
          "iopub.execute_input": "2025-02-28T20:46:34.748797Z",
          "iopub.status.busy": "2025-02-28T20:46:34.748367Z",
          "iopub.status.idle": "2025-02-28T20:46:34.751694Z",
          "shell.execute_reply": "2025-02-28T20:46:34.75103Z"
        },
        "papermill": {
          "duration": 0.017085,
          "end_time": "2025-02-28T20:46:34.752848",
          "exception": false,
          "start_time": "2025-02-28T20:46:34.735763",
          "status": "completed"
        },
        "tags": [],
        "id": "254723f9"
      },
      "outputs": [],
      "source": [
        "# Create stopwords set for WordCloud\n",
        "stopwords = set(STOPWORDS)"
      ]
    },
    {
      "cell_type": "code",
      "execution_count": 15,
      "id": "57fa6262",
      "metadata": {
        "execution": {
          "iopub.execute_input": "2025-02-28T20:46:34.772073Z",
          "iopub.status.busy": "2025-02-28T20:46:34.771834Z",
          "iopub.status.idle": "2025-02-28T20:46:34.774994Z",
          "shell.execute_reply": "2025-02-28T20:46:34.774427Z"
        },
        "papermill": {
          "duration": 0.014038,
          "end_time": "2025-02-28T20:46:34.77631",
          "exception": false,
          "start_time": "2025-02-28T20:46:34.762272",
          "status": "completed"
        },
        "tags": [],
        "id": "57fa6262"
      },
      "outputs": [],
      "source": [
        "# text example from \"A Tale of Two Cities\" by Charles Dickens 😎\n",
        "\n",
        "data = \"\"\"\n",
        "It was the best of times, it was the worst of times,\n",
        "it was the age of wisdom, it was the age of foolishness,\n",
        "it was the epoch of belief, it was the epoch of incredulity,\n",
        "it was the season of Light, it was the season of Darkness,\n",
        "it was the spring of hope, it was the winter of despair.\n",
        "\"\"\""
      ]
    },
    {
      "cell_type": "code",
      "execution_count": 16,
      "id": "516c7548",
      "metadata": {
        "execution": {
          "iopub.execute_input": "2025-02-28T20:46:34.795454Z",
          "iopub.status.busy": "2025-02-28T20:46:34.795186Z",
          "iopub.status.idle": "2025-02-28T20:46:34.836012Z",
          "shell.execute_reply": "2025-02-28T20:46:34.835332Z"
        },
        "papermill": {
          "duration": 0.052153,
          "end_time": "2025-02-28T20:46:34.83765",
          "exception": false,
          "start_time": "2025-02-28T20:46:34.785497",
          "status": "completed"
        },
        "tags": [],
        "id": "516c7548"
      },
      "outputs": [],
      "source": [
        "# Generate a WordCloud from the input text\n",
        "wordcloud = WordCloud(\n",
        "    background_color='white',\n",
        "    stopwords=stopwords,\n",
        "    max_words=200,\n",
        "    max_font_size=40,\n",
        "    random_state=42\n",
        ").generate(data)"
      ]
    },
    {
      "cell_type": "code",
      "execution_count": 17,
      "id": "4f27d6e9",
      "metadata": {
        "execution": {
          "iopub.execute_input": "2025-02-28T20:46:35.133411Z",
          "iopub.status.busy": "2025-02-28T20:46:35.133115Z",
          "iopub.status.idle": "2025-02-28T20:46:35.137625Z",
          "shell.execute_reply": "2025-02-28T20:46:35.136767Z"
        },
        "papermill": {
          "duration": 0.017175,
          "end_time": "2025-02-28T20:46:35.138853",
          "exception": false,
          "start_time": "2025-02-28T20:46:35.121678",
          "status": "completed"
        },
        "tags": [],
        "colab": {
          "base_uri": "https://localhost:8080/"
        },
        "id": "4f27d6e9",
        "outputId": "f47c0b2d-53a1-4016-bcda-684fd1fb9a1c"
      },
      "outputs": [
        {
          "output_type": "stream",
          "name": "stdout",
          "text": [
            "Processed Data:\n",
            "it was the best of times it was the worst of times it was the age of wisdom it was the age of foolishness it was the epoch of belief it was the epoch of incredulity it was the season of light it was the season of darkness it was the spring of hope it was the winter of despair\n"
          ]
        }
      ],
      "source": [
        "# Remove newline characters\n",
        "data = data.replace(\"\\n\", \" \")\n",
        "\n",
        "# Convert text to lowercase\n",
        "data = data.lower()\n",
        "\n",
        "# Remove punctuation\n",
        "data = data.translate(str.maketrans('', '', string.punctuation))\n",
        "\n",
        "# Optionally remove the first and last character (if needed)\n",
        "data = data[1:-1]\n",
        "\n",
        "print(f\"Processed Data:\\n{data}\")"
      ]
    },
    {
      "cell_type": "code",
      "execution_count": 18,
      "id": "10aac437",
      "metadata": {
        "execution": {
          "iopub.execute_input": "2025-02-28T20:46:35.161287Z",
          "iopub.status.busy": "2025-02-28T20:46:35.16097Z",
          "iopub.status.idle": "2025-02-28T20:46:35.164854Z",
          "shell.execute_reply": "2025-02-28T20:46:35.164162Z"
        },
        "papermill": {
          "duration": 0.016568,
          "end_time": "2025-02-28T20:46:35.166037",
          "exception": false,
          "start_time": "2025-02-28T20:46:35.149469",
          "status": "completed"
        },
        "tags": [],
        "id": "10aac437"
      },
      "outputs": [],
      "source": [
        "# Create character dictionaries\n",
        "chars = sorted(set(data))\n",
        "char_to_idx = {c: i for (i, c) in enumerate(chars)}\n",
        "idx_to_char = {i: c for (i, c) in enumerate(chars)}"
      ]
    },
    {
      "cell_type": "markdown",
      "id": "317ee5b9",
      "metadata": {
        "papermill": {
          "duration": 0.010582,
          "end_time": "2025-02-28T20:46:35.187436",
          "exception": false,
          "start_time": "2025-02-28T20:46:35.176854",
          "status": "completed"
        },
        "tags": [],
        "id": "317ee5b9"
      },
      "source": [
        "----\n",
        "## - Parameters and Activation Functions\n",
        "----"
      ]
    },
    {
      "cell_type": "code",
      "execution_count": 19,
      "id": "b64f1d41",
      "metadata": {
        "execution": {
          "iopub.execute_input": "2025-02-28T20:46:35.209958Z",
          "iopub.status.busy": "2025-02-28T20:46:35.209672Z",
          "iopub.status.idle": "2025-02-28T20:46:35.21346Z",
          "shell.execute_reply": "2025-02-28T20:46:35.212746Z"
        },
        "papermill": {
          "duration": 0.016533,
          "end_time": "2025-02-28T20:46:35.214689",
          "exception": false,
          "start_time": "2025-02-28T20:46:35.198156",
          "status": "completed"
        },
        "tags": [],
        "id": "b64f1d41"
      },
      "outputs": [],
      "source": [
        "data_size, char_size = len(data), len(chars)\n",
        "\n",
        "hidden_size = 10  # Size of hidden layer\n",
        "weight_sd = 0.1   # Standard deviation for weight initialization\n",
        "z_size = hidden_size + char_size  # Combined size of previous hidden state and current input\n",
        "t_steps = 25  # Time steps for training"
      ]
    },
    {
      "cell_type": "code",
      "execution_count": 20,
      "id": "872f8085",
      "metadata": {
        "execution": {
          "iopub.execute_input": "2025-02-28T20:46:35.237024Z",
          "iopub.status.busy": "2025-02-28T20:46:35.236747Z",
          "iopub.status.idle": "2025-02-28T20:46:35.240825Z",
          "shell.execute_reply": "2025-02-28T20:46:35.24015Z"
        },
        "papermill": {
          "duration": 0.016773,
          "end_time": "2025-02-28T20:46:35.242124",
          "exception": false,
          "start_time": "2025-02-28T20:46:35.225351",
          "status": "completed"
        },
        "tags": [],
        "id": "872f8085"
      },
      "outputs": [],
      "source": [
        "# Activation functions and their derivatives\n",
        "def sigmoid(x):\n",
        "    return 1 / (1 + np.exp(-x))\n",
        "\n",
        "def dsigmoid(y):\n",
        "    return y * (1 - y)\n",
        "\n",
        "\n",
        "\n",
        "def tanh(x):\n",
        "    return np.tanh(x)\n",
        "\n",
        "def dtanh(y):\n",
        "    return 1 - y * y"
      ]
    },
    {
      "cell_type": "code",
      "execution_count": null,
      "id": "570030fa",
      "metadata": {
        "execution": {
          "iopub.execute_input": "2025-02-28T20:46:35.352591Z",
          "iopub.status.busy": "2025-02-28T20:46:35.352301Z",
          "iopub.status.idle": "2025-02-28T20:46:35.357319Z",
          "shell.execute_reply": "2025-02-28T20:46:35.356466Z"
        },
        "papermill": {
          "duration": 0.017647,
          "end_time": "2025-02-28T20:46:35.358635",
          "exception": false,
          "start_time": "2025-02-28T20:46:35.340988",
          "status": "completed"
        },
        "tags": [],
        "id": "570030fa"
      },
      "outputs": [],
      "source": [
        "def forward(x, u, q):\n",
        "    z = np.row_stack((q, x))\n",
        "    a = sigmoid(np.dot(wa, z) + ba)\n",
        "    b = sigmoid(np.dot(wb, z) + bb)\n",
        "    c = tanh(np.dot(wc, z) + bc)\n",
        "    d = sigmoid(np.dot(wd, z) + bd)\n",
        "    e = a * u + b * c\n",
        "    h = d * tanh(e)\n",
        "    v = np.dot(wv, h) + bv\n",
        "    y = np.exp(v) / np.sum(np.exp(v))\n",
        "    return z, a, b, c, d, e, h, v, y"
      ]
    },
    {
      "cell_type": "markdown",
      "id": "f9abcdd3",
      "metadata": {
        "papermill": {
          "duration": 0.010415,
          "end_time": "2025-02-28T20:46:35.380079",
          "exception": false,
          "start_time": "2025-02-28T20:46:35.369664",
          "status": "completed"
        },
        "tags": [],
        "id": "f9abcdd3"
      },
      "source": [
        "Update model parameters using `SGD`:\n",
        "\n",
        "    Inputs:\n",
        "      - grads: gradients for each parameter\n",
        "      - theta: current parameters (weights and biases)\n",
        "      - lr: learning rate\n",
        "    Returns:\n",
        "      - Updated parameters"
      ]
    },
    {
      "cell_type": "code",
      "execution_count": null,
      "id": "6510e230",
      "metadata": {
        "execution": {
          "iopub.execute_input": "2025-02-28T20:46:35.402335Z",
          "iopub.status.busy": "2025-02-28T20:46:35.401996Z",
          "iopub.status.idle": "2025-02-28T20:46:35.406555Z",
          "shell.execute_reply": "2025-02-28T20:46:35.405914Z"
        },
        "papermill": {
          "duration": 0.017023,
          "end_time": "2025-02-28T20:46:35.407721",
          "exception": false,
          "start_time": "2025-02-28T20:46:35.390698",
          "status": "completed"
        },
        "tags": [],
        "id": "6510e230"
      },
      "outputs": [],
      "source": [
        "def optimize(grads, theta, lr=0.05):\n",
        "    dwa, dwb, dwc, dwd, dwv, dba, dbb, dbc, dbd, dbv = grads\n",
        "    wa, wb, wc, wd, wv, ba, bb, bc, bd, bv = theta\n",
        "    wa -= dwa * lr\n",
        "    wb -= dwb * lr\n",
        "    wc -= dwc * lr\n",
        "    wd -= dwd * lr\n",
        "    wv -= dwv * lr\n",
        "    ba -= dba * lr\n",
        "    bb -= dbb * lr\n",
        "    bc -= dbc * lr\n",
        "    bd -= dbd * lr\n",
        "    bv -= dbv * lr\n",
        "    return wa, wb, wc, wd, wv, ba, bb, bc, bd, bv"
      ]
    },
    {
      "cell_type": "markdown",
      "id": "489b7997",
      "metadata": {
        "papermill": {
          "duration": 0.010141,
          "end_time": "2025-02-28T20:46:35.428508",
          "exception": false,
          "start_time": "2025-02-28T20:46:35.418367",
          "status": "completed"
        },
        "tags": [],
        "id": "489b7997"
      },
      "source": [
        "----\n",
        "## - Initialize Variables and Model Parameters\n",
        "----"
      ]
    },
    {
      "cell_type": "code",
      "execution_count": null,
      "id": "946f84fa",
      "metadata": {
        "execution": {
          "iopub.execute_input": "2025-02-28T20:46:35.45042Z",
          "iopub.status.busy": "2025-02-28T20:46:35.450106Z",
          "iopub.status.idle": "2025-02-28T20:46:35.45388Z",
          "shell.execute_reply": "2025-02-28T20:46:35.453222Z"
        },
        "papermill": {
          "duration": 0.016272,
          "end_time": "2025-02-28T20:46:35.455172",
          "exception": false,
          "start_time": "2025-02-28T20:46:35.4389",
          "status": "completed"
        },
        "tags": [],
        "id": "946f84fa"
      },
      "outputs": [],
      "source": [
        "losses = {}\n",
        "z, a, b, c, d, e, h, v, y = {}, {}, {}, {}, {}, {}, {}, {}, {}\n",
        "q, x, u = {}, {}, {}"
      ]
    },
    {
      "cell_type": "code",
      "execution_count": null,
      "id": "dd5e29b2",
      "metadata": {
        "execution": {
          "iopub.execute_input": "2025-02-28T20:46:35.478322Z",
          "iopub.status.busy": "2025-02-28T20:46:35.478003Z",
          "iopub.status.idle": "2025-02-28T20:46:35.482329Z",
          "shell.execute_reply": "2025-02-28T20:46:35.481685Z"
        },
        "papermill": {
          "duration": 0.01777,
          "end_time": "2025-02-28T20:46:35.483586",
          "exception": false,
          "start_time": "2025-02-28T20:46:35.465816",
          "status": "completed"
        },
        "tags": [],
        "id": "dd5e29b2"
      },
      "outputs": [],
      "source": [
        "# Initialize weights for LSTM gates (wa, wb, wc, wd)\n",
        "wa, wb, wc, wd = [np.random.randn(hidden_size, z_size) * weight_sd + 0.5 for _ in range(4)]\n",
        "ba, bb, bc, bd = [np.zeros((hidden_size, 1)) for _ in range(4)]"
      ]
    },
    {
      "cell_type": "code",
      "execution_count": null,
      "id": "fc104957",
      "metadata": {
        "execution": {
          "iopub.execute_input": "2025-02-28T20:46:35.506206Z",
          "iopub.status.busy": "2025-02-28T20:46:35.50588Z",
          "iopub.status.idle": "2025-02-28T20:46:35.510158Z",
          "shell.execute_reply": "2025-02-28T20:46:35.509348Z"
        },
        "papermill": {
          "duration": 0.017133,
          "end_time": "2025-02-28T20:46:35.511546",
          "exception": false,
          "start_time": "2025-02-28T20:46:35.494413",
          "status": "completed"
        },
        "tags": [],
        "id": "fc104957"
      },
      "outputs": [],
      "source": [
        "# Output layer parameters\n",
        "wv = np.random.randn(char_size, hidden_size) * weight_sd\n",
        "bv = np.zeros((char_size, 1))\n",
        "q[-1] = np.zeros((hidden_size, 1))\n",
        "u[-1] = np.zeros((hidden_size, 1))"
      ]
    },
    {
      "cell_type": "code",
      "execution_count": null,
      "id": "73b626c5",
      "metadata": {
        "execution": {
          "iopub.execute_input": "2025-02-28T20:46:35.533583Z",
          "iopub.status.busy": "2025-02-28T20:46:35.533292Z",
          "iopub.status.idle": "2025-02-28T20:46:35.537252Z",
          "shell.execute_reply": "2025-02-28T20:46:35.536427Z"
        },
        "papermill": {
          "duration": 0.016535,
          "end_time": "2025-02-28T20:46:35.538608",
          "exception": false,
          "start_time": "2025-02-28T20:46:35.522073",
          "status": "completed"
        },
        "tags": [],
        "id": "73b626c5"
      },
      "outputs": [],
      "source": [
        "# Prepare training data (one-hot encoding indices)\n",
        "pointer = 25\n",
        "t_steps = 25\n",
        "inputs = [char_to_idx[ch] for ch in data[pointer: pointer + t_steps]]\n",
        "targets = [char_to_idx[ch] for ch in data[pointer + 1: pointer + t_steps + 1]]"
      ]
    },
    {
      "cell_type": "markdown",
      "id": "063238b2",
      "metadata": {
        "papermill": {
          "duration": 0.010183,
          "end_time": "2025-02-28T20:46:35.559462",
          "exception": false,
          "start_time": "2025-02-28T20:46:35.549279",
          "status": "completed"
        },
        "tags": [],
        "id": "063238b2"
      },
      "source": [
        "---\n",
        "## - Training Loop\n",
        "---"
      ]
    },
    {
      "cell_type": "code",
      "execution_count": null,
      "id": "95daa4a0",
      "metadata": {
        "execution": {
          "iopub.execute_input": "2025-02-28T20:46:35.581792Z",
          "iopub.status.busy": "2025-02-28T20:46:35.581503Z",
          "iopub.status.idle": "2025-02-28T20:46:38.817561Z",
          "shell.execute_reply": "2025-02-28T20:46:38.816859Z"
        },
        "papermill": {
          "duration": 3.249188,
          "end_time": "2025-02-28T20:46:38.819223",
          "exception": false,
          "start_time": "2025-02-28T20:46:35.570035",
          "status": "completed"
        },
        "tags": [],
        "id": "95daa4a0"
      },
      "outputs": [],
      "source": [
        "for epoch in range(1000):\n",
        "    loss = 0\n",
        "\n",
        "    # Forward propagation for each time step\n",
        "    for t in range(len(inputs)):\n",
        "        # Create one-hot encoded vector for input character\n",
        "        x[t] = np.zeros((char_size, 1))\n",
        "        x[t][inputs[t]] = 1\n",
        "\n",
        "        # Forward pass through the LSTM cell\n",
        "        z[t], a[t], b[t], c[t], d[t], e[t], h[t], v[t], y[t] = forward(x[t], u[t - 1], q[t - 1])\n",
        "        u[t], q[t] = e[t], h[t]\n",
        "\n",
        "        loss += -np.log(y[t][targets[t], 0])\n",
        "\n",
        "    # Initialize gradients for backpropagation\n",
        "    dh_next = np.zeros_like(q[0])\n",
        "    de_next = np.zeros_like(u[0])\n",
        "    dwa, dwb, dwc, dwd, dwv = 0, 0, 0, 0, 0\n",
        "    dba, dbb, dbc, dbd, dbv = 0, 0, 0, 0, 0\n",
        "\n",
        "    # Backward propagation through time (BPTT)\n",
        "    for t in reversed(range(len(inputs))):\n",
        "        target = targets[t]\n",
        "        dv = np.copy(y[t])\n",
        "        dv[target] -= 1\n",
        "\n",
        "        dwv += np.dot(dv, h[t].T)\n",
        "        dbv += dv\n",
        "\n",
        "        dh = np.dot(wv.T, dv) + dh_next\n",
        "\n",
        "        dd = dh * tanh(e[t])\n",
        "        dd = dsigmoid(d[t]) * dd\n",
        "\n",
        "        dwd += np.dot(dd, z[t].T)\n",
        "        dbd += dd\n",
        "\n",
        "        de = np.copy(de_next)\n",
        "        de += dh * d[t] * dtanh(tanh(e[t]))\n",
        "\n",
        "        dc = de * b[t]\n",
        "        dc = dtanh(c[t]) * dc\n",
        "\n",
        "        dwc += np.dot(dc, z[t].T)\n",
        "        dbc += dc\n",
        "\n",
        "        db_temp = de * dc\n",
        "        db_temp = dsigmoid(b[t]) * db_temp\n",
        "        dwb += np.dot(db_temp, z[t].T)\n",
        "        dbb += db_temp\n",
        "\n",
        "        da = de * u[t - 1]\n",
        "        da = dsigmoid(a[t]) * da\n",
        "        dwa += np.dot(da, z[t].T)\n",
        "        dba += da\n",
        "\n",
        "        dz = (np.dot(wa.T, da)\n",
        "              + np.dot(wb.T, db_temp)\n",
        "              + np.dot(wc.T, dc)\n",
        "              + np.dot(dd.T, dd))\n",
        "        dh_next = dz[:hidden_size, :]\n",
        "        de_next = a[t] * de\n",
        "\n",
        "    grads = (dwa, dwb, dwc, dwd, dwv, dba, dbb, dbc, dbd, dbv)\n",
        "    theta = (wa, wb, wc, wd, wv, ba, bb, bc, bd, bv)\n",
        "\n",
        "    # Update parameters using SGD\n",
        "    wa, wb, wc, wd, wv, ba, bb, bc, bd, bv = optimize(grads, theta)\n",
        "\n",
        "    losses[epoch] = loss"
      ]
    },
    {
      "cell_type": "code",
      "execution_count": null,
      "id": "41597b01",
      "metadata": {
        "execution": {
          "iopub.execute_input": "2025-02-28T20:46:38.842278Z",
          "iopub.status.busy": "2025-02-28T20:46:38.841968Z",
          "iopub.status.idle": "2025-02-28T20:46:39.0005Z",
          "shell.execute_reply": "2025-02-28T20:46:38.999618Z"
        },
        "papermill": {
          "duration": 0.171376,
          "end_time": "2025-02-28T20:46:39.001806",
          "exception": false,
          "start_time": "2025-02-28T20:46:38.83043",
          "status": "completed"
        },
        "tags": [],
        "id": "41597b01",
        "outputId": "d848d81d-24fb-4ca7-9fee-48ca8fd11f9c"
      },
      "outputs": [
        {
          "data": {
            "image/png": "[encoded data removed]",
            "text/plain": [
              "<Figure size 640x480 with 1 Axes>"
            ]
          },
          "metadata": {},
          "output_type": "display_data"
        }
      ],
      "source": [
        "# Plot training loss over epochs\n",
        "plt.plot(list(losses.keys()), list(losses.values()))\n",
        "plt.xlabel(\"Epoch\")\n",
        "plt.ylabel(\"Loss\")\n",
        "plt.title(\"Training Loss\")\n",
        "plt.show()"
      ]
    }
  ],
  "metadata": {
    "kaggle": {
      "accelerator": "none",
      "dataSources": [],
      "dockerImageVersionId": 30918,
      "isGpuEnabled": false,
      "isInternetEnabled": true,
      "language": "python",
      "sourceType": "notebook"
    },
    "kernelspec": {
      "display_name": "Python 3",
      "language": "python",
      "name": "python3"
    },
    "language_info": {
      "codemirror_mode": {
        "name": "ipython",
        "version": 3
      },
      "file_extension": ".py",
      "mimetype": "text/x-python",
      "name": "python",
      "nbconvert_exporter": "python",
      "pygments_lexer": "ipython3",
      "version": "3.10.12"
    },
    "papermill": {
      "default_parameters": {},
      "duration": 9.290481,
      "end_time": "2025-02-28T20:46:39.579653",
      "environment_variables": {},
      "exception": null,
      "input_path": "__notebook__.ipynb",
      "output_path": "__notebook__.ipynb",
      "parameters": {},
      "start_time": "2025-02-28T20:46:30.289172",
      "version": "2.6.0"
    },
    "colab": {
      "provenance": [],
      "include_colab_link": true
    }
  },
  "nbformat": 4,
  "nbformat_minor": 5
}